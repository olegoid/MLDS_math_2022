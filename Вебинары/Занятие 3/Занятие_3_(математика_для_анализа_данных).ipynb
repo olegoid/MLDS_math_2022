{
  "nbformat": 4,
  "nbformat_minor": 0,
  "metadata": {
    "colab": {
      "provenance": [],
      "collapsed_sections": []
    },
    "kernelspec": {
      "name": "python3",
      "display_name": "Python 3"
    },
    "language_info": {
      "name": "python"
    }
  },
  "cells": [
    {
      "cell_type": "markdown",
      "source": [
        "# Математика для анализа данных.\n",
        "## Урок 3. Градиентный спуск. Регуляризация."
      ],
      "metadata": {
        "id": "w-gW8RhB86ED"
      }
    },
    {
      "cell_type": "markdown",
      "source": [
        "### План занятия\n",
        "\n",
        "1. Градиентный спуск: SGD + модификации (слайды).\n",
        "\n",
        "2. LinearRegression vs SGD в Python.\n",
        "\n",
        "3. Переобучение и регуляризация (слайды, доска).\n",
        "\n",
        "4. Линейная регрессия с регуляризацией в Python."
      ],
      "metadata": {
        "id": "65oTgq8n9FN3"
      }
    },
    {
      "cell_type": "markdown",
      "source": [
        "## 1-2. Градиентный спуск.\n",
        "\n",
        "Сгенерируем выборку для задачи регрессии."
      ],
      "metadata": {
        "id": "6XmrNo4M9c7x"
      }
    },
    {
      "cell_type": "code",
      "source": [
        "import numpy as np\n",
        "from matplotlib import pylab as plt\n",
        "%pylab inline\n",
        "\n",
        "from sklearn.datasets import make_regression\n",
        "\n",
        "X, y = make_regression(n_samples = 10000)\n",
        "print(X.shape, y.shape)"
      ],
      "metadata": {
        "colab": {
          "base_uri": "https://localhost:8080/"
        },
        "id": "sfEep2FJ9B9-",
        "outputId": "1eae58b1-ff48-4e40-f300-19d4106f8d08"
      },
      "execution_count": null,
      "outputs": [
        {
          "output_type": "stream",
          "name": "stdout",
          "text": [
            "Populating the interactive namespace from numpy and matplotlib\n",
            "(10000, 100) (10000,)\n"
          ]
        },
        {
          "output_type": "stream",
          "name": "stderr",
          "text": [
            "/usr/local/lib/python3.7/dist-packages/IPython/core/magics/pylab.py:160: UserWarning: pylab import has clobbered these variables: ['copy', 'plt']\n",
            "`%matplotlib` prevents importing * from pylab and numpy\n",
            "  \"\\n`%matplotlib` prevents importing * from pylab and numpy\"\n"
          ]
        }
      ]
    },
    {
      "cell_type": "markdown",
      "source": [
        "У нас 10000 объектов и 100 признаков. Для начала решим задачу аналитически \"из коробки\"."
      ],
      "metadata": {
        "id": "PD9Oiyrp9j0U"
      }
    },
    {
      "cell_type": "code",
      "source": [
        "from sklearn.linear_model import LinearRegression\n",
        "from sklearn.metrics import mean_squared_error\n",
        "\n",
        "lr = LinearRegression()\n",
        "\n",
        "lr.fit(X, y)\n",
        "\n",
        "print(mean_squared_error(y, lr.predict(X)))"
      ],
      "metadata": {
        "colab": {
          "base_uri": "https://localhost:8080/"
        },
        "id": "p2ePxgxt9jR9",
        "outputId": "13128778-42f3-4eba-c09e-2a0336cd833c"
      },
      "execution_count": null,
      "outputs": [
        {
          "output_type": "stream",
          "name": "stdout",
          "text": [
            "1.0152189687211896e-25\n"
          ]
        }
      ]
    },
    {
      "cell_type": "markdown",
      "source": [
        "Посмотрим на коэффициенты модели."
      ],
      "metadata": {
        "id": "lSbGxI6H9q1D"
      }
    },
    {
      "cell_type": "code",
      "source": [
        "lr.intercept_, lr.coef_[:5]"
      ],
      "metadata": {
        "colab": {
          "base_uri": "https://localhost:8080/"
        },
        "id": "EA_7rvIN9sZP",
        "outputId": "d81c0b2e-9e58-4b98-fa22-b3badd5d007c"
      },
      "execution_count": null,
      "outputs": [
        {
          "output_type": "execute_result",
          "data": {
            "text/plain": [
              "(2.6645352591003757e-15,\n",
              " array([-2.01510768e-14,  6.52811138e-14,  4.97379915e-14,  5.06261699e-14,\n",
              "         3.19744231e-14]))"
            ]
          },
          "metadata": {},
          "execution_count": 8
        }
      ]
    },
    {
      "cell_type": "markdown",
      "source": [
        "Теперь попробуем обучить линейную регрессию методом градиентного спуска \"из коробки\""
      ],
      "metadata": {
        "id": "jM5L6gZr-Ez_"
      }
    },
    {
      "cell_type": "code",
      "source": [
        "from sklearn.linear_model import SGDRegressor\n",
        "\n",
        "sgd = SGDRegressor(alpha=0.00000001)\n",
        "sgd.fit(X, y)\n",
        "\n",
        "print(mean_squared_error(y, sgd.predict(X)))"
      ],
      "metadata": {
        "colab": {
          "base_uri": "https://localhost:8080/"
        },
        "id": "K9fpfqDv9t7l",
        "outputId": "4e225af6-fadb-4e65-ffab-8b29749f18b2"
      },
      "execution_count": null,
      "outputs": [
        {
          "output_type": "stream",
          "name": "stdout",
          "text": [
            "2.01459534463331e-12\n"
          ]
        }
      ]
    },
    {
      "cell_type": "code",
      "source": [
        "sgd.intercept_, sgd.coef_[:5]"
      ],
      "metadata": {
        "colab": {
          "base_uri": "https://localhost:8080/"
        },
        "id": "f3DmLk2Z-I-w",
        "outputId": "2d2a3910-c5b9-4d66-f9fb-bea2c9b098e2"
      },
      "execution_count": null,
      "outputs": [
        {
          "output_type": "execute_result",
          "data": {
            "text/plain": [
              "(array([-6.24831975e-08]),\n",
              " array([-2.37517073e-08,  2.75929692e-08, -4.18199649e-09, -1.13463303e-08,\n",
              "         1.18741993e-08]))"
            ]
          },
          "metadata": {},
          "execution_count": 11
        }
      ]
    },
    {
      "cell_type": "markdown",
      "source": [
        "## 3-4. Переобучение и регуляризация."
      ],
      "metadata": {
        "id": "EVZDXhJc-o7P"
      }
    },
    {
      "cell_type": "markdown",
      "source": [
        "Загрузим один из стандартных датасетов - измеряем уровень сахара в крови."
      ],
      "metadata": {
        "id": "G_vvHA-zCeMJ"
      }
    },
    {
      "cell_type": "code",
      "source": [
        "from sklearn.datasets import load_diabetes\n",
        "\n",
        "X, y = load_diabetes(return_X_y=True, as_frame=True)\n",
        "\n",
        "X.head()"
      ],
      "metadata": {
        "colab": {
          "base_uri": "https://localhost:8080/",
          "height": 206
        },
        "id": "EomCLbLl-UEt",
        "outputId": "a9940ca3-9e9d-4d87-a71a-943a9d3f97d0"
      },
      "execution_count": null,
      "outputs": [
        {
          "output_type": "execute_result",
          "data": {
            "text/plain": [
              "        age       sex       bmi        bp        s1        s2        s3  \\\n",
              "0  0.038076  0.050680  0.061696  0.021872 -0.044223 -0.034821 -0.043401   \n",
              "1 -0.001882 -0.044642 -0.051474 -0.026328 -0.008449 -0.019163  0.074412   \n",
              "2  0.085299  0.050680  0.044451 -0.005671 -0.045599 -0.034194 -0.032356   \n",
              "3 -0.089063 -0.044642 -0.011595 -0.036656  0.012191  0.024991 -0.036038   \n",
              "4  0.005383 -0.044642 -0.036385  0.021872  0.003935  0.015596  0.008142   \n",
              "\n",
              "         s4        s5        s6  \n",
              "0 -0.002592  0.019908 -0.017646  \n",
              "1 -0.039493 -0.068330 -0.092204  \n",
              "2 -0.002592  0.002864 -0.025930  \n",
              "3  0.034309  0.022692 -0.009362  \n",
              "4 -0.002592 -0.031991 -0.046641  "
            ],
            "text/html": [
              "\n",
              "  <div id=\"df-144f3b33-5b2b-407c-8be1-853d370f5fec\">\n",
              "    <div class=\"colab-df-container\">\n",
              "      <div>\n",
              "<style scoped>\n",
              "    .dataframe tbody tr th:only-of-type {\n",
              "        vertical-align: middle;\n",
              "    }\n",
              "\n",
              "    .dataframe tbody tr th {\n",
              "        vertical-align: top;\n",
              "    }\n",
              "\n",
              "    .dataframe thead th {\n",
              "        text-align: right;\n",
              "    }\n",
              "</style>\n",
              "<table border=\"1\" class=\"dataframe\">\n",
              "  <thead>\n",
              "    <tr style=\"text-align: right;\">\n",
              "      <th></th>\n",
              "      <th>age</th>\n",
              "      <th>sex</th>\n",
              "      <th>bmi</th>\n",
              "      <th>bp</th>\n",
              "      <th>s1</th>\n",
              "      <th>s2</th>\n",
              "      <th>s3</th>\n",
              "      <th>s4</th>\n",
              "      <th>s5</th>\n",
              "      <th>s6</th>\n",
              "    </tr>\n",
              "  </thead>\n",
              "  <tbody>\n",
              "    <tr>\n",
              "      <th>0</th>\n",
              "      <td>0.038076</td>\n",
              "      <td>0.050680</td>\n",
              "      <td>0.061696</td>\n",
              "      <td>0.021872</td>\n",
              "      <td>-0.044223</td>\n",
              "      <td>-0.034821</td>\n",
              "      <td>-0.043401</td>\n",
              "      <td>-0.002592</td>\n",
              "      <td>0.019908</td>\n",
              "      <td>-0.017646</td>\n",
              "    </tr>\n",
              "    <tr>\n",
              "      <th>1</th>\n",
              "      <td>-0.001882</td>\n",
              "      <td>-0.044642</td>\n",
              "      <td>-0.051474</td>\n",
              "      <td>-0.026328</td>\n",
              "      <td>-0.008449</td>\n",
              "      <td>-0.019163</td>\n",
              "      <td>0.074412</td>\n",
              "      <td>-0.039493</td>\n",
              "      <td>-0.068330</td>\n",
              "      <td>-0.092204</td>\n",
              "    </tr>\n",
              "    <tr>\n",
              "      <th>2</th>\n",
              "      <td>0.085299</td>\n",
              "      <td>0.050680</td>\n",
              "      <td>0.044451</td>\n",
              "      <td>-0.005671</td>\n",
              "      <td>-0.045599</td>\n",
              "      <td>-0.034194</td>\n",
              "      <td>-0.032356</td>\n",
              "      <td>-0.002592</td>\n",
              "      <td>0.002864</td>\n",
              "      <td>-0.025930</td>\n",
              "    </tr>\n",
              "    <tr>\n",
              "      <th>3</th>\n",
              "      <td>-0.089063</td>\n",
              "      <td>-0.044642</td>\n",
              "      <td>-0.011595</td>\n",
              "      <td>-0.036656</td>\n",
              "      <td>0.012191</td>\n",
              "      <td>0.024991</td>\n",
              "      <td>-0.036038</td>\n",
              "      <td>0.034309</td>\n",
              "      <td>0.022692</td>\n",
              "      <td>-0.009362</td>\n",
              "    </tr>\n",
              "    <tr>\n",
              "      <th>4</th>\n",
              "      <td>0.005383</td>\n",
              "      <td>-0.044642</td>\n",
              "      <td>-0.036385</td>\n",
              "      <td>0.021872</td>\n",
              "      <td>0.003935</td>\n",
              "      <td>0.015596</td>\n",
              "      <td>0.008142</td>\n",
              "      <td>-0.002592</td>\n",
              "      <td>-0.031991</td>\n",
              "      <td>-0.046641</td>\n",
              "    </tr>\n",
              "  </tbody>\n",
              "</table>\n",
              "</div>\n",
              "      <button class=\"colab-df-convert\" onclick=\"convertToInteractive('df-144f3b33-5b2b-407c-8be1-853d370f5fec')\"\n",
              "              title=\"Convert this dataframe to an interactive table.\"\n",
              "              style=\"display:none;\">\n",
              "        \n",
              "  <svg xmlns=\"http://www.w3.org/2000/svg\" height=\"24px\"viewBox=\"0 0 24 24\"\n",
              "       width=\"24px\">\n",
              "    <path d=\"M0 0h24v24H0V0z\" fill=\"none\"/>\n",
              "    <path d=\"M18.56 5.44l.94 2.06.94-2.06 2.06-.94-2.06-.94-.94-2.06-.94 2.06-2.06.94zm-11 1L8.5 8.5l.94-2.06 2.06-.94-2.06-.94L8.5 2.5l-.94 2.06-2.06.94zm10 10l.94 2.06.94-2.06 2.06-.94-2.06-.94-.94-2.06-.94 2.06-2.06.94z\"/><path d=\"M17.41 7.96l-1.37-1.37c-.4-.4-.92-.59-1.43-.59-.52 0-1.04.2-1.43.59L10.3 9.45l-7.72 7.72c-.78.78-.78 2.05 0 2.83L4 21.41c.39.39.9.59 1.41.59.51 0 1.02-.2 1.41-.59l7.78-7.78 2.81-2.81c.8-.78.8-2.07 0-2.86zM5.41 20L4 18.59l7.72-7.72 1.47 1.35L5.41 20z\"/>\n",
              "  </svg>\n",
              "      </button>\n",
              "      \n",
              "  <style>\n",
              "    .colab-df-container {\n",
              "      display:flex;\n",
              "      flex-wrap:wrap;\n",
              "      gap: 12px;\n",
              "    }\n",
              "\n",
              "    .colab-df-convert {\n",
              "      background-color: #E8F0FE;\n",
              "      border: none;\n",
              "      border-radius: 50%;\n",
              "      cursor: pointer;\n",
              "      display: none;\n",
              "      fill: #1967D2;\n",
              "      height: 32px;\n",
              "      padding: 0 0 0 0;\n",
              "      width: 32px;\n",
              "    }\n",
              "\n",
              "    .colab-df-convert:hover {\n",
              "      background-color: #E2EBFA;\n",
              "      box-shadow: 0px 1px 2px rgba(60, 64, 67, 0.3), 0px 1px 3px 1px rgba(60, 64, 67, 0.15);\n",
              "      fill: #174EA6;\n",
              "    }\n",
              "\n",
              "    [theme=dark] .colab-df-convert {\n",
              "      background-color: #3B4455;\n",
              "      fill: #D2E3FC;\n",
              "    }\n",
              "\n",
              "    [theme=dark] .colab-df-convert:hover {\n",
              "      background-color: #434B5C;\n",
              "      box-shadow: 0px 1px 3px 1px rgba(0, 0, 0, 0.15);\n",
              "      filter: drop-shadow(0px 1px 2px rgba(0, 0, 0, 0.3));\n",
              "      fill: #FFFFFF;\n",
              "    }\n",
              "  </style>\n",
              "\n",
              "      <script>\n",
              "        const buttonEl =\n",
              "          document.querySelector('#df-144f3b33-5b2b-407c-8be1-853d370f5fec button.colab-df-convert');\n",
              "        buttonEl.style.display =\n",
              "          google.colab.kernel.accessAllowed ? 'block' : 'none';\n",
              "\n",
              "        async function convertToInteractive(key) {\n",
              "          const element = document.querySelector('#df-144f3b33-5b2b-407c-8be1-853d370f5fec');\n",
              "          const dataTable =\n",
              "            await google.colab.kernel.invokeFunction('convertToInteractive',\n",
              "                                                     [key], {});\n",
              "          if (!dataTable) return;\n",
              "\n",
              "          const docLinkHtml = 'Like what you see? Visit the ' +\n",
              "            '<a target=\"_blank\" href=https://colab.research.google.com/notebooks/data_table.ipynb>data table notebook</a>'\n",
              "            + ' to learn more about interactive tables.';\n",
              "          element.innerHTML = '';\n",
              "          dataTable['output_type'] = 'display_data';\n",
              "          await google.colab.output.renderOutput(dataTable, element);\n",
              "          const docLink = document.createElement('div');\n",
              "          docLink.innerHTML = docLinkHtml;\n",
              "          element.appendChild(docLink);\n",
              "        }\n",
              "      </script>\n",
              "    </div>\n",
              "  </div>\n",
              "  "
            ]
          },
          "metadata": {},
          "execution_count": 68
        }
      ]
    },
    {
      "cell_type": "code",
      "source": [
        "y[:5]"
      ],
      "metadata": {
        "colab": {
          "base_uri": "https://localhost:8080/"
        },
        "id": "UHWhHMHH-8d7",
        "outputId": "9c4e551e-29de-4d62-a63d-0b3a5d33f146"
      },
      "execution_count": null,
      "outputs": [
        {
          "output_type": "execute_result",
          "data": {
            "text/plain": [
              "0    151.0\n",
              "1     75.0\n",
              "2    141.0\n",
              "3    206.0\n",
              "4    135.0\n",
              "Name: target, dtype: float64"
            ]
          },
          "metadata": {},
          "execution_count": 69
        }
      ]
    },
    {
      "cell_type": "markdown",
      "source": [
        "Разобъем данные на обучающую и тестовую выборки."
      ],
      "metadata": {
        "id": "foPlVY9uCjbO"
      }
    },
    {
      "cell_type": "code",
      "source": [
        "from sklearn.model_selection import train_test_split\n",
        "\n",
        "X_train, X_test, y_train, y_test = train_test_split(X, y, random_state=121)"
      ],
      "metadata": {
        "id": "qITqvLmE_cTb"
      },
      "execution_count": null,
      "outputs": []
    },
    {
      "cell_type": "markdown",
      "source": [
        "Обучим линейную регрессию и сделаем предсказание, посчитаем MSE."
      ],
      "metadata": {
        "id": "14xlEc0aCuho"
      }
    },
    {
      "cell_type": "code",
      "source": [
        "lr = LinearRegression()\n",
        "\n",
        "lr.fit(X_train, y_train)\n",
        "\n",
        "pred_lr_train = lr.predict(X_train)\n",
        "pred_lr_test = lr.predict(X_test)\n",
        "\n",
        "print(mean_squared_error(y_train, pred_lr_train))\n",
        "print(mean_squared_error(y_test, pred_lr_test))"
      ],
      "metadata": {
        "colab": {
          "base_uri": "https://localhost:8080/"
        },
        "id": "0SzQQ3eG-9mR",
        "outputId": "b030cd8f-a571-4db7-a9ae-0ebba698982a"
      },
      "execution_count": null,
      "outputs": [
        {
          "output_type": "stream",
          "name": "stdout",
          "text": [
            "2797.74646300208\n",
            "3092.1556922810805\n"
          ]
        }
      ]
    },
    {
      "cell_type": "markdown",
      "source": [
        "Добавим много-много признаков."
      ],
      "metadata": {
        "id": "pDUcfTmiCy7P"
      }
    },
    {
      "cell_type": "code",
      "source": [
        "import copy\n",
        "\n",
        "cols = copy.deepcopy(X.columns)\n",
        "print(cols)\n",
        "\n",
        "for col1 in cols:\n",
        "    for col2 in cols:\n",
        "        col_name = col1 + '_x_' + col2\n",
        "        if col_name not in X.columns:\n",
        "            X_train[col_name] = X_train[col1]*X_train[col2]\n",
        "            X_test[col_name] = X_test[col1]*X_test[col2]\n",
        "X_train.head()"
      ],
      "metadata": {
        "colab": {
          "base_uri": "https://localhost:8080/",
          "height": 389
        },
        "id": "SPWA8aK3_L_n",
        "outputId": "a0dbf5a7-4e2f-49a6-c697-b4f52038ea7d"
      },
      "execution_count": null,
      "outputs": [
        {
          "output_type": "stream",
          "name": "stdout",
          "text": [
            "Index(['age', 'sex', 'bmi', 'bp', 's1', 's2', 's3', 's4', 's5', 's6'], dtype='object')\n"
          ]
        },
        {
          "output_type": "stream",
          "name": "stderr",
          "text": [
            "/usr/local/lib/python3.7/dist-packages/ipykernel_launcher.py:10: PerformanceWarning: DataFrame is highly fragmented.  This is usually the result of calling `frame.insert` many times, which has poor performance.  Consider joining all columns at once using pd.concat(axis=1) instead.  To get a de-fragmented frame, use `newframe = frame.copy()`\n",
            "  # Remove the CWD from sys.path while we load stuff.\n",
            "/usr/local/lib/python3.7/dist-packages/ipykernel_launcher.py:11: PerformanceWarning: DataFrame is highly fragmented.  This is usually the result of calling `frame.insert` many times, which has poor performance.  Consider joining all columns at once using pd.concat(axis=1) instead.  To get a de-fragmented frame, use `newframe = frame.copy()`\n",
            "  # This is added back by InteractiveShellApp.init_path()\n"
          ]
        },
        {
          "output_type": "execute_result",
          "data": {
            "text/plain": [
              "          age       sex       bmi        bp        s1        s2        s3  \\\n",
              "316  0.016281  0.050680  0.014272  0.001215  0.001183 -0.021355 -0.032356   \n",
              "352  0.012648  0.050680 -0.071952 -0.046985 -0.051103 -0.097137  0.118591   \n",
              "120 -0.049105 -0.044642  0.004572  0.011544 -0.037344 -0.018537 -0.017629   \n",
              "359  0.038076  0.050680  0.005650  0.032201  0.006687  0.017475 -0.024993   \n",
              "40   0.005383  0.050680 -0.008362  0.021872  0.054845  0.073215 -0.024993   \n",
              "\n",
              "           s4        s5        s6  ...  s6_x_age  s6_x_sex  s6_x_bmi  \\\n",
              "316  0.034309  0.074968  0.040343  ...  0.000657  0.002045  0.000576   \n",
              "352 -0.076395 -0.020289 -0.038357  ... -0.000485 -0.001944  0.002760   \n",
              "120 -0.002592 -0.039810 -0.021788  ...  0.001070  0.000973 -0.000100   \n",
              "359  0.034309  0.014823  0.061054  ...  0.002325  0.003094  0.000345   \n",
              "40   0.034309  0.012553  0.094191  ...  0.000507  0.004774 -0.000788   \n",
              "\n",
              "      s6_x_bp   s6_x_s1   s6_x_s2   s6_x_s3   s6_x_s4   s6_x_s5   s6_x_s6  \n",
              "316  0.000049  0.000048 -0.000862 -0.001305  0.001384  0.003024  0.001628  \n",
              "352  0.001802  0.001960  0.003726 -0.004549  0.002930  0.000778  0.001471  \n",
              "120 -0.000252  0.000814  0.000404  0.000384  0.000056  0.000867  0.000475  \n",
              "359  0.001966  0.000408  0.001067 -0.001526  0.002095  0.000905  0.003728  \n",
              "40   0.002060  0.005166  0.006896 -0.002354  0.003232  0.001182  0.008872  \n",
              "\n",
              "[5 rows x 110 columns]"
            ],
            "text/html": [
              "\n",
              "  <div id=\"df-72329e15-4fa5-40e9-b1ce-dfb1ce419700\">\n",
              "    <div class=\"colab-df-container\">\n",
              "      <div>\n",
              "<style scoped>\n",
              "    .dataframe tbody tr th:only-of-type {\n",
              "        vertical-align: middle;\n",
              "    }\n",
              "\n",
              "    .dataframe tbody tr th {\n",
              "        vertical-align: top;\n",
              "    }\n",
              "\n",
              "    .dataframe thead th {\n",
              "        text-align: right;\n",
              "    }\n",
              "</style>\n",
              "<table border=\"1\" class=\"dataframe\">\n",
              "  <thead>\n",
              "    <tr style=\"text-align: right;\">\n",
              "      <th></th>\n",
              "      <th>age</th>\n",
              "      <th>sex</th>\n",
              "      <th>bmi</th>\n",
              "      <th>bp</th>\n",
              "      <th>s1</th>\n",
              "      <th>s2</th>\n",
              "      <th>s3</th>\n",
              "      <th>s4</th>\n",
              "      <th>s5</th>\n",
              "      <th>s6</th>\n",
              "      <th>...</th>\n",
              "      <th>s6_x_age</th>\n",
              "      <th>s6_x_sex</th>\n",
              "      <th>s6_x_bmi</th>\n",
              "      <th>s6_x_bp</th>\n",
              "      <th>s6_x_s1</th>\n",
              "      <th>s6_x_s2</th>\n",
              "      <th>s6_x_s3</th>\n",
              "      <th>s6_x_s4</th>\n",
              "      <th>s6_x_s5</th>\n",
              "      <th>s6_x_s6</th>\n",
              "    </tr>\n",
              "  </thead>\n",
              "  <tbody>\n",
              "    <tr>\n",
              "      <th>316</th>\n",
              "      <td>0.016281</td>\n",
              "      <td>0.050680</td>\n",
              "      <td>0.014272</td>\n",
              "      <td>0.001215</td>\n",
              "      <td>0.001183</td>\n",
              "      <td>-0.021355</td>\n",
              "      <td>-0.032356</td>\n",
              "      <td>0.034309</td>\n",
              "      <td>0.074968</td>\n",
              "      <td>0.040343</td>\n",
              "      <td>...</td>\n",
              "      <td>0.000657</td>\n",
              "      <td>0.002045</td>\n",
              "      <td>0.000576</td>\n",
              "      <td>0.000049</td>\n",
              "      <td>0.000048</td>\n",
              "      <td>-0.000862</td>\n",
              "      <td>-0.001305</td>\n",
              "      <td>0.001384</td>\n",
              "      <td>0.003024</td>\n",
              "      <td>0.001628</td>\n",
              "    </tr>\n",
              "    <tr>\n",
              "      <th>352</th>\n",
              "      <td>0.012648</td>\n",
              "      <td>0.050680</td>\n",
              "      <td>-0.071952</td>\n",
              "      <td>-0.046985</td>\n",
              "      <td>-0.051103</td>\n",
              "      <td>-0.097137</td>\n",
              "      <td>0.118591</td>\n",
              "      <td>-0.076395</td>\n",
              "      <td>-0.020289</td>\n",
              "      <td>-0.038357</td>\n",
              "      <td>...</td>\n",
              "      <td>-0.000485</td>\n",
              "      <td>-0.001944</td>\n",
              "      <td>0.002760</td>\n",
              "      <td>0.001802</td>\n",
              "      <td>0.001960</td>\n",
              "      <td>0.003726</td>\n",
              "      <td>-0.004549</td>\n",
              "      <td>0.002930</td>\n",
              "      <td>0.000778</td>\n",
              "      <td>0.001471</td>\n",
              "    </tr>\n",
              "    <tr>\n",
              "      <th>120</th>\n",
              "      <td>-0.049105</td>\n",
              "      <td>-0.044642</td>\n",
              "      <td>0.004572</td>\n",
              "      <td>0.011544</td>\n",
              "      <td>-0.037344</td>\n",
              "      <td>-0.018537</td>\n",
              "      <td>-0.017629</td>\n",
              "      <td>-0.002592</td>\n",
              "      <td>-0.039810</td>\n",
              "      <td>-0.021788</td>\n",
              "      <td>...</td>\n",
              "      <td>0.001070</td>\n",
              "      <td>0.000973</td>\n",
              "      <td>-0.000100</td>\n",
              "      <td>-0.000252</td>\n",
              "      <td>0.000814</td>\n",
              "      <td>0.000404</td>\n",
              "      <td>0.000384</td>\n",
              "      <td>0.000056</td>\n",
              "      <td>0.000867</td>\n",
              "      <td>0.000475</td>\n",
              "    </tr>\n",
              "    <tr>\n",
              "      <th>359</th>\n",
              "      <td>0.038076</td>\n",
              "      <td>0.050680</td>\n",
              "      <td>0.005650</td>\n",
              "      <td>0.032201</td>\n",
              "      <td>0.006687</td>\n",
              "      <td>0.017475</td>\n",
              "      <td>-0.024993</td>\n",
              "      <td>0.034309</td>\n",
              "      <td>0.014823</td>\n",
              "      <td>0.061054</td>\n",
              "      <td>...</td>\n",
              "      <td>0.002325</td>\n",
              "      <td>0.003094</td>\n",
              "      <td>0.000345</td>\n",
              "      <td>0.001966</td>\n",
              "      <td>0.000408</td>\n",
              "      <td>0.001067</td>\n",
              "      <td>-0.001526</td>\n",
              "      <td>0.002095</td>\n",
              "      <td>0.000905</td>\n",
              "      <td>0.003728</td>\n",
              "    </tr>\n",
              "    <tr>\n",
              "      <th>40</th>\n",
              "      <td>0.005383</td>\n",
              "      <td>0.050680</td>\n",
              "      <td>-0.008362</td>\n",
              "      <td>0.021872</td>\n",
              "      <td>0.054845</td>\n",
              "      <td>0.073215</td>\n",
              "      <td>-0.024993</td>\n",
              "      <td>0.034309</td>\n",
              "      <td>0.012553</td>\n",
              "      <td>0.094191</td>\n",
              "      <td>...</td>\n",
              "      <td>0.000507</td>\n",
              "      <td>0.004774</td>\n",
              "      <td>-0.000788</td>\n",
              "      <td>0.002060</td>\n",
              "      <td>0.005166</td>\n",
              "      <td>0.006896</td>\n",
              "      <td>-0.002354</td>\n",
              "      <td>0.003232</td>\n",
              "      <td>0.001182</td>\n",
              "      <td>0.008872</td>\n",
              "    </tr>\n",
              "  </tbody>\n",
              "</table>\n",
              "<p>5 rows × 110 columns</p>\n",
              "</div>\n",
              "      <button class=\"colab-df-convert\" onclick=\"convertToInteractive('df-72329e15-4fa5-40e9-b1ce-dfb1ce419700')\"\n",
              "              title=\"Convert this dataframe to an interactive table.\"\n",
              "              style=\"display:none;\">\n",
              "        \n",
              "  <svg xmlns=\"http://www.w3.org/2000/svg\" height=\"24px\"viewBox=\"0 0 24 24\"\n",
              "       width=\"24px\">\n",
              "    <path d=\"M0 0h24v24H0V0z\" fill=\"none\"/>\n",
              "    <path d=\"M18.56 5.44l.94 2.06.94-2.06 2.06-.94-2.06-.94-.94-2.06-.94 2.06-2.06.94zm-11 1L8.5 8.5l.94-2.06 2.06-.94-2.06-.94L8.5 2.5l-.94 2.06-2.06.94zm10 10l.94 2.06.94-2.06 2.06-.94-2.06-.94-.94-2.06-.94 2.06-2.06.94z\"/><path d=\"M17.41 7.96l-1.37-1.37c-.4-.4-.92-.59-1.43-.59-.52 0-1.04.2-1.43.59L10.3 9.45l-7.72 7.72c-.78.78-.78 2.05 0 2.83L4 21.41c.39.39.9.59 1.41.59.51 0 1.02-.2 1.41-.59l7.78-7.78 2.81-2.81c.8-.78.8-2.07 0-2.86zM5.41 20L4 18.59l7.72-7.72 1.47 1.35L5.41 20z\"/>\n",
              "  </svg>\n",
              "      </button>\n",
              "      \n",
              "  <style>\n",
              "    .colab-df-container {\n",
              "      display:flex;\n",
              "      flex-wrap:wrap;\n",
              "      gap: 12px;\n",
              "    }\n",
              "\n",
              "    .colab-df-convert {\n",
              "      background-color: #E8F0FE;\n",
              "      border: none;\n",
              "      border-radius: 50%;\n",
              "      cursor: pointer;\n",
              "      display: none;\n",
              "      fill: #1967D2;\n",
              "      height: 32px;\n",
              "      padding: 0 0 0 0;\n",
              "      width: 32px;\n",
              "    }\n",
              "\n",
              "    .colab-df-convert:hover {\n",
              "      background-color: #E2EBFA;\n",
              "      box-shadow: 0px 1px 2px rgba(60, 64, 67, 0.3), 0px 1px 3px 1px rgba(60, 64, 67, 0.15);\n",
              "      fill: #174EA6;\n",
              "    }\n",
              "\n",
              "    [theme=dark] .colab-df-convert {\n",
              "      background-color: #3B4455;\n",
              "      fill: #D2E3FC;\n",
              "    }\n",
              "\n",
              "    [theme=dark] .colab-df-convert:hover {\n",
              "      background-color: #434B5C;\n",
              "      box-shadow: 0px 1px 3px 1px rgba(0, 0, 0, 0.15);\n",
              "      filter: drop-shadow(0px 1px 2px rgba(0, 0, 0, 0.3));\n",
              "      fill: #FFFFFF;\n",
              "    }\n",
              "  </style>\n",
              "\n",
              "      <script>\n",
              "        const buttonEl =\n",
              "          document.querySelector('#df-72329e15-4fa5-40e9-b1ce-dfb1ce419700 button.colab-df-convert');\n",
              "        buttonEl.style.display =\n",
              "          google.colab.kernel.accessAllowed ? 'block' : 'none';\n",
              "\n",
              "        async function convertToInteractive(key) {\n",
              "          const element = document.querySelector('#df-72329e15-4fa5-40e9-b1ce-dfb1ce419700');\n",
              "          const dataTable =\n",
              "            await google.colab.kernel.invokeFunction('convertToInteractive',\n",
              "                                                     [key], {});\n",
              "          if (!dataTable) return;\n",
              "\n",
              "          const docLinkHtml = 'Like what you see? Visit the ' +\n",
              "            '<a target=\"_blank\" href=https://colab.research.google.com/notebooks/data_table.ipynb>data table notebook</a>'\n",
              "            + ' to learn more about interactive tables.';\n",
              "          element.innerHTML = '';\n",
              "          dataTable['output_type'] = 'display_data';\n",
              "          await google.colab.output.renderOutput(dataTable, element);\n",
              "          const docLink = document.createElement('div');\n",
              "          docLink.innerHTML = docLinkHtml;\n",
              "          element.appendChild(docLink);\n",
              "        }\n",
              "      </script>\n",
              "    </div>\n",
              "  </div>\n",
              "  "
            ]
          },
          "metadata": {},
          "execution_count": 72
        }
      ]
    },
    {
      "cell_type": "markdown",
      "source": [
        "Обучим на расширенном датасете линейную регрессию и сделаем предсказание, вычислим MSE. "
      ],
      "metadata": {
        "id": "PmTbpSCqC1eS"
      }
    },
    {
      "cell_type": "code",
      "source": [
        "lr2 = LinearRegression()\n",
        "\n",
        "lr2.fit(X_train, y_train)\n",
        "\n",
        "pred_lr_train = lr2.predict(X_train)\n",
        "pred_lr_test = lr2.predict(X_test)\n",
        "\n",
        "print(mean_squared_error(y_train, pred_lr_train))\n",
        "print(mean_squared_error(y_test, pred_lr_test))"
      ],
      "metadata": {
        "colab": {
          "base_uri": "https://localhost:8080/"
        },
        "id": "sxU0D9fZ_SAT",
        "outputId": "d6f4f816-6b58-4743-f37e-d05295c8ad50"
      },
      "execution_count": null,
      "outputs": [
        {
          "output_type": "stream",
          "name": "stdout",
          "text": [
            "2187.3202882242763\n",
            "3789.966584814086\n"
          ]
        }
      ]
    },
    {
      "cell_type": "markdown",
      "source": [
        "Получили переобученную модель. Посмотрим еще на веса."
      ],
      "metadata": {
        "id": "69wFIZodC7oo"
      }
    },
    {
      "cell_type": "code",
      "source": [
        "plt.hist(lr.coef_)"
      ],
      "metadata": {
        "colab": {
          "base_uri": "https://localhost:8080/",
          "height": 355
        },
        "id": "4_Srpuge_Wqy",
        "outputId": "aba8f840-61b8-4040-98ba-b861fdbcf2bd"
      },
      "execution_count": null,
      "outputs": [
        {
          "output_type": "execute_result",
          "data": {
            "text/plain": [
              "(array([1., 0., 0., 1., 0., 3., 1., 1., 2., 1.]),\n",
              " array([-713.21499059, -574.23617335, -435.25735611, -296.27853886,\n",
              "        -157.29972162,  -18.32090438,  120.65791286,  259.6367301 ,\n",
              "         398.61554735,  537.59436459,  676.57318183]),\n",
              " <a list of 10 Patch objects>)"
            ]
          },
          "metadata": {},
          "execution_count": 74
        },
        {
          "output_type": "display_data",
          "data": {
            "text/plain": [
              "<Figure size 432x288 with 1 Axes>"
            ],
            "image/png": "[encoded data removed]"
          },
          "metadata": {
            "needs_background": "light"
          }
        }
      ]
    },
    {
      "cell_type": "code",
      "source": [
        "plt.hist(lr2.coef_)"
      ],
      "metadata": {
        "colab": {
          "base_uri": "https://localhost:8080/",
          "height": 355
        },
        "id": "WL8eQXq_BFEy",
        "outputId": "f34c517b-44f2-4bd4-faba-34fbaae370d1"
      },
      "execution_count": null,
      "outputs": [
        {
          "output_type": "execute_result",
          "data": {
            "text/plain": [
              "(array([ 4.,  4.,  0., 71., 18.,  9.,  3.,  0.,  0.,  1.]),\n",
              " array([-71935.56355737, -53540.01025162, -35144.45694587, -16748.90364012,\n",
              "          1646.64966563,  20042.20297137,  38437.75627712,  56833.30958287,\n",
              "         75228.86288862,  93624.41619437, 112019.96950012]),\n",
              " <a list of 10 Patch objects>)"
            ]
          },
          "metadata": {},
          "execution_count": 75
        },
        {
          "output_type": "display_data",
          "data": {
            "text/plain": [
              "<Figure size 432x288 with 1 Axes>"
            ],
            "image/png": "[encoded data removed]"
          },
          "metadata": {
            "needs_background": "light"
          }
        }
      ]
    },
    {
      "cell_type": "markdown",
      "source": [
        "Обучим линейную регрессию с L1-регуляризацией для разных значений коэффициента регуляризации alpha."
      ],
      "metadata": {
        "id": "5Rt9xz0aDqS-"
      }
    },
    {
      "cell_type": "code",
      "source": [
        "# альфа - это гиперпараметр, посмотрим как зависят значения весов от него\n",
        "\n",
        "from sklearn.linear_model import Lasso\n",
        "\n",
        "for a in np.arange(1e-5, 1.1+1e-5, 0.25):\n",
        "    lasso = Lasso(alpha=a)\n",
        "    lasso.fit(X_train, y_train)\n",
        "\n",
        "    y_pred_train = lasso.predict(X_train)\n",
        "    y_pred_test = lasso.predict(X_test)\n",
        "\n",
        "    print('alpha={}'.format(a))\n",
        "    print('Train MSE:', mean_squared_error(y_train, y_pred_train))\n",
        "    print('Test MSE:', mean_squared_error(y_test, y_pred_test))\n",
        "    print(lasso.coef_,'\\n')"
      ],
      "metadata": {
        "colab": {
          "base_uri": "https://localhost:8080/"
        },
        "id": "yh4dzeBIBf_6",
        "outputId": "9ef33406-7100-47f9-ce42-7fc90c1b5154"
      },
      "execution_count": null,
      "outputs": [
        {
          "output_type": "stream",
          "name": "stdout",
          "text": [
            "alpha=1e-05\n",
            "Train MSE: 2214.1980051509327\n",
            "Test MSE: 3682.661221049689\n",
            "[ 3.27168705e+01 -2.58922427e+02  5.02582616e+02  3.54358230e+02\n",
            " -1.64401952e+02 -1.90535261e+01 -1.89448701e+02  9.63882422e+01\n",
            "  5.48861716e+02  1.11213548e+02  1.97020459e+03  4.52106011e+03\n",
            "  3.30443446e+02 -4.40286514e+02 -1.07096632e+03 -2.98325875e+03\n",
            "  1.93269081e+03  1.18724704e+03  1.51919721e+03  2.64870111e+03\n",
            "  1.87518230e+02 -0.00000000e+00  1.13267293e+03  1.71419233e+03\n",
            "  3.48005541e+03 -8.42863824e+03 -0.00000000e+00 -3.77453943e+03\n",
            " -0.00000000e+00  1.23652192e+01  1.30429545e+02  1.88323241e+03\n",
            "  6.89496569e+00  3.91644649e+03 -2.83984557e+03  0.00000000e+00\n",
            " -0.00000000e+00 -5.42684790e+03  1.16515234e+01 -0.00000000e+00\n",
            " -5.98950591e+02  7.65961451e+02  1.27221962e+03 -1.70556779e+03\n",
            "  4.15415134e+03 -3.95959244e+03  1.01560222e+03  3.18339180e+02\n",
            "  0.00000000e+00 -1.17869797e+03 -0.00000000e+00  9.74534099e+03\n",
            " -3.67695210e+02  1.02843540e+03  6.02622503e+03 -5.17691296e+03\n",
            " -1.07327672e+04 -2.38526319e+04  2.99138399e+03  2.54835132e+03\n",
            "  0.00000000e+00 -3.19676714e+03  7.87002276e+03 -2.05820486e+03\n",
            "  1.05683755e+04 -5.08263569e+03 -1.24118393e+03  1.54814286e+03\n",
            "  4.30993481e+03  1.05790251e+03  1.06055814e+03 -2.66009527e+03\n",
            " -1.58173061e+03  0.00000000e+00 -1.21012961e+04  8.82979018e+03\n",
            "  1.04793414e+04  2.16316653e+04  2.51210489e-01  0.00000000e+00\n",
            "  3.87632413e+01 -0.00000000e+00  3.43170782e+02  1.86620009e+03\n",
            " -8.44393642e+03  8.35705479e+03  2.61357071e+03  1.56243447e+04\n",
            " -4.31041064e+03 -9.65027040e+01  0.00000000e+00 -4.52737191e+03\n",
            "  0.00000000e+00 -5.07379272e+02 -9.86803599e+03  3.27404727e+03\n",
            "  3.26876303e+03  4.07738052e+03  3.17628448e+03 -0.00000000e+00\n",
            "  3.39888575e+02  0.00000000e+00 -6.52800465e+02 -7.61735241e+02\n",
            " -7.10913050e+03  1.13347955e+03  2.81446723e+03  2.97963444e+03\n",
            "  9.82762701e+02  1.70852252e+03] \n",
            "\n",
            "alpha=0.25001\n",
            "Train MSE: 2972.209606511966\n",
            "Test MSE: 3288.2921953959953\n",
            "[   0.          -54.45784114  494.44207428  205.34984252   -0.\n",
            "   -0.         -132.61011397    0.          407.56791203   48.23690677\n",
            "    0.            0.            0.            0.           -0.\n",
            "   -0.           -0.            0.            0.            0.\n",
            "    0.           -0.            0.            0.            0.\n",
            "   -0.            0.           -0.            0.            0.\n",
            "    0.            0.            0.            0.            0.\n",
            "    0.           -0.            0.            0.            0.\n",
            "    0.            0.            0.            0.            0.\n",
            "   -0.            0.            0.            0.            0.\n",
            "   -0.            0.            0.            0.           -0.\n",
            "   -0.           -0.           -0.            0.            0.\n",
            "   -0.           -0.            0.           -0.           -0.\n",
            "   -0.            0.           -0.            0.            0.\n",
            "   -0.            0.           -0.            0.           -0.\n",
            "    0.           -0.            0.            0.           -0.\n",
            "    0.           -0.            0.            0.           -0.\n",
            "   -0.            0.            0.            0.            0.\n",
            "    0.            0.            0.            0.            0.\n",
            "    0.            0.            0.            0.            0.\n",
            "    0.            0.            0.            0.            0.\n",
            "    0.           -0.            0.            0.            0.        ] \n",
            "\n",
            "alpha=0.50001\n",
            "Train MSE: 3182.7890601680247\n",
            "Test MSE: 3517.435272439495\n",
            "[  0.          -0.         460.51098638 136.34680735  -0.\n",
            "  -0.         -54.18296067   0.         391.68810767   0.\n",
            "   0.           0.           0.           0.          -0.\n",
            "  -0.          -0.           0.           0.           0.\n",
            "   0.          -0.           0.           0.           0.\n",
            "  -0.           0.          -0.           0.           0.\n",
            "   0.           0.           0.           0.           0.\n",
            "  -0.          -0.           0.           0.           0.\n",
            "   0.           0.           0.           0.           0.\n",
            "  -0.           0.          -0.           0.           0.\n",
            "  -0.           0.           0.           0.          -0.\n",
            "  -0.          -0.           0.           0.           0.\n",
            "  -0.          -0.          -0.          -0.          -0.\n",
            "  -0.           0.          -0.          -0.           0.\n",
            "  -0.           0.          -0.           0.          -0.\n",
            "   0.          -0.           0.          -0.          -0.\n",
            "   0.          -0.           0.          -0.           0.\n",
            "  -0.           0.           0.           0.           0.\n",
            "   0.           0.           0.           0.           0.\n",
            "  -0.          -0.           0.           0.           0.\n",
            "   0.           0.           0.           0.           0.\n",
            "   0.          -0.           0.           0.           0.        ] \n",
            "\n",
            "alpha=0.75001\n",
            "Train MSE: 3439.228607430704\n",
            "Test MSE: 3829.8488327976847\n",
            "[  0.          -0.         410.28681803  71.64284855   0.\n",
            "   0.          -0.           0.         355.07694405   0.\n",
            "   0.           0.           0.           0.          -0.\n",
            "  -0.          -0.           0.           0.           0.\n",
            "   0.          -0.           0.           0.          -0.\n",
            "  -0.           0.          -0.           0.           0.\n",
            "   0.           0.           0.           0.           0.\n",
            "  -0.           0.           0.           0.           0.\n",
            "   0.           0.           0.           0.          -0.\n",
            "  -0.           0.          -0.           0.           0.\n",
            "  -0.          -0.           0.          -0.          -0.\n",
            "  -0.          -0.           0.           0.           0.\n",
            "  -0.          -0.          -0.          -0.          -0.\n",
            "  -0.           0.          -0.          -0.           0.\n",
            "  -0.           0.           0.           0.          -0.\n",
            "   0.          -0.           0.          -0.          -0.\n",
            "   0.          -0.           0.          -0.           0.\n",
            "  -0.           0.           0.           0.           0.\n",
            "   0.           0.           0.           0.           0.\n",
            "  -0.          -0.           0.           0.           0.\n",
            "   0.           0.           0.           0.           0.\n",
            "   0.          -0.           0.           0.           0.        ] \n",
            "\n",
            "alpha=1.00001\n",
            "Train MSE: 3753.224835244752\n",
            "Test MSE: 4195.4009500930215\n",
            "[  0.          -0.         344.62045576  10.61354929   0.\n",
            "   0.          -0.           0.         302.34776472   0.\n",
            "   0.           0.           0.           0.          -0.\n",
            "  -0.          -0.           0.           0.           0.\n",
            "   0.          -0.           0.           0.          -0.\n",
            "  -0.           0.          -0.           0.           0.\n",
            "   0.           0.           0.           0.          -0.\n",
            "  -0.          -0.           0.           0.           0.\n",
            "   0.           0.           0.           0.          -0.\n",
            "  -0.           0.          -0.           0.           0.\n",
            "  -0.          -0.          -0.          -0.          -0.\n",
            "  -0.          -0.           0.           0.           0.\n",
            "  -0.          -0.          -0.          -0.          -0.\n",
            "  -0.           0.          -0.          -0.          -0.\n",
            "  -0.           0.          -0.           0.          -0.\n",
            "   0.          -0.           0.          -0.          -0.\n",
            "   0.          -0.           0.          -0.           0.\n",
            "  -0.           0.           0.           0.           0.\n",
            "   0.           0.           0.           0.           0.\n",
            "  -0.          -0.           0.           0.           0.\n",
            "   0.           0.           0.           0.           0.\n",
            "  -0.          -0.           0.           0.           0.        ] \n",
            "\n"
          ]
        },
        {
          "output_type": "stream",
          "name": "stderr",
          "text": [
            "/usr/local/lib/python3.7/dist-packages/sklearn/linear_model/_coordinate_descent.py:648: ConvergenceWarning: Objective did not converge. You might want to increase the number of iterations, check the scale of the features or consider increasing regularisation. Duality gap: 3.418e+05, tolerance: 1.906e+02\n",
            "  coef_, l1_reg, l2_reg, X, y, max_iter, tol, rng, random, positive\n"
          ]
        }
      ]
    },
    {
      "cell_type": "markdown",
      "source": [
        "Обучим линейную регрессию с L2-регуляризацией для разных значений коэффициента регуляризации alpha."
      ],
      "metadata": {
        "id": "jTZ4YbCvDwJ5"
      }
    },
    {
      "cell_type": "code",
      "source": [
        "# альфа - это гиперпараметр, посмотрим как зависят значения весов от него\n",
        "\n",
        "from sklearn.linear_model import Ridge\n",
        "\n",
        "for a in np.arange(1e-5, 1.1+1e-5, 0.25):\n",
        "    ridge = Ridge(alpha=a)\n",
        "    ridge.fit(X_train, y_train)\n",
        "\n",
        "    y_pred_train = ridge.predict(X_train)\n",
        "    y_pred_test = ridge.predict(X_test)\n",
        "\n",
        "    print('alpha={}'.format(a))\n",
        "    print('Train MSE:', mean_squared_error(y_train, y_pred_train))\n",
        "    print('Test MSE:', mean_squared_error(y_test, y_pred_test))\n",
        "    print(ridge.coef_,'\\n')"
      ],
      "metadata": {
        "colab": {
          "base_uri": "https://localhost:8080/"
        },
        "id": "yUzOUOkKB1qB",
        "outputId": "7ce5883a-cd86-4763-da14-6c4e7c3b50a8"
      },
      "execution_count": null,
      "outputs": [
        {
          "output_type": "stream",
          "name": "stdout",
          "text": [
            "alpha=1e-05\n",
            "Train MSE: 2228.5128669789688\n",
            "Test MSE: 3599.224665270703\n",
            "[ 2.97801393e+01 -2.61336233e+02  4.99363042e+02  3.50963908e+02\n",
            " -3.11002241e+03  2.57037297e+03  9.20733057e+02  1.07777965e+02\n",
            "  1.53149322e+03  1.08920600e+02  2.06969317e+03  2.24474005e+03\n",
            "  1.56171206e+02 -4.58874108e+02 -1.62863156e+01 -1.89784398e+03\n",
            "  1.15807710e+03  4.60938118e+02  7.49475999e+02  1.32552924e+03\n",
            "  2.24474005e+03 -1.57807420e+00  1.50856331e+03  1.23669254e+03\n",
            "  4.02933048e+03 -3.67003569e+03 -2.01138357e+02 -1.58060099e+03\n",
            " -1.30022238e+03 -4.24837924e+01  1.56171206e+02  1.50856331e+03\n",
            " -1.14491592e+02  2.59658615e+03 -2.11524415e+02  2.70695023e+03\n",
            " -1.45784110e+03 -2.76383243e+03 -3.55549233e+02 -1.99379504e+02\n",
            " -4.58874108e+02  1.23669254e+03  2.59658615e+03 -1.72543269e+03\n",
            "  1.33350514e+03 -1.73648811e+03  9.02206274e+02  8.79480827e+02\n",
            "  1.44629969e+02 -9.77115838e+02 -1.62863156e+01  4.02933048e+03\n",
            " -2.11524415e+02  1.33350514e+03  2.66351013e+03  1.36922158e+03\n",
            " -3.04485244e+03 -5.65459952e+03 -4.03934820e+02 -2.06729582e+03\n",
            " -1.89784398e+03 -3.67003569e+03  2.70695023e+03 -1.73648811e+03\n",
            "  1.36922158e+03 -1.85492377e+03 -2.12449443e+02 -6.54951979e+02\n",
            "  1.56030371e+03  8.84920627e+02  1.15807710e+03 -2.01138357e+02\n",
            " -1.45784110e+03  9.02206274e+02 -3.04485244e+03 -2.12449443e+02\n",
            "  3.04616847e+03  4.38290525e+03 -6.44003881e+02  1.45861839e+03\n",
            "  4.60938118e+02 -1.58060099e+03 -2.76383243e+03  8.79480827e+02\n",
            " -5.65459952e+03 -6.54951979e+02  4.38290525e+03  8.58548516e+03\n",
            " -1.76569599e+03  1.69856264e+03  7.49475999e+02 -1.30022238e+03\n",
            " -3.55549233e+02  1.44629969e+02 -4.03934820e+02  1.56030371e+03\n",
            " -6.44003881e+02 -1.76569599e+03  6.35419339e+03  2.66203203e+02\n",
            "  1.32552924e+03 -4.24837924e+01 -1.99379504e+02 -9.77115838e+02\n",
            " -2.06729582e+03  8.84920627e+02  1.45861839e+03  1.69856264e+03\n",
            "  2.66203203e+02  1.75928896e+03] \n",
            "\n",
            "alpha=0.25001\n",
            "Train MSE: 2878.724231059112\n",
            "Test MSE: 3294.965639439738\n",
            "[ 3.05995485e+01 -1.68360550e+02  4.06584984e+02  2.58359494e+02\n",
            " -3.01954154e+01 -6.62866842e+01 -1.74136779e+02  1.09367997e+02\n",
            "  3.35026908e+02  1.38900963e+02  2.43223761e+01  3.03259900e+01\n",
            "  1.00721469e+01  1.72019281e+01 -3.22343604e+00 -8.63911498e+00\n",
            " -4.78801494e+00  4.02334259e+00  1.51982331e+01  1.84745587e+01\n",
            "  3.03259900e+01 -1.01664219e+00  1.60120493e+01  1.89005976e+01\n",
            "  2.26447207e+00 -1.02157635e+01  1.73089954e+01 -1.35836903e+01\n",
            "  8.37525946e+00  9.03422926e+00  1.00721469e+01  1.60120493e+01\n",
            "  2.27095028e+01  2.56259712e+01  2.86315265e+00  2.27887265e+00\n",
            " -7.19770703e+00  7.26235428e+00  1.12820898e+01  1.78311697e+01\n",
            "  1.72019281e+01  1.89005976e+01  2.56259712e+01  1.07248214e+01\n",
            "  3.00512987e-01 -4.33708432e+00  2.68359831e+00 -2.21359792e+00\n",
            "  9.07099482e+00  1.32355225e+01 -3.22343604e+00  2.26447207e+00\n",
            "  2.86315265e+00  3.00512987e-01 -4.75072806e+00 -6.25336392e+00\n",
            "  4.47220594e-01 -5.56574056e+00  1.15192063e+00  2.61091485e+00\n",
            " -8.63911498e+00 -1.02157635e+01  2.27887265e+00 -4.33708432e+00\n",
            " -6.25336392e+00 -1.17844723e+01  1.45819729e+00 -5.91727521e+00\n",
            "  4.28087661e+00  2.62830217e+00 -4.78801494e+00  1.73089954e+01\n",
            " -7.19770703e+00  2.68359831e+00  4.47220594e-01  1.45819729e+00\n",
            " -8.72381382e+00  3.31939647e+00  4.75879488e+00 -7.96020877e+00\n",
            "  4.02334259e+00 -1.35836903e+01  7.26235428e+00 -2.21359792e+00\n",
            " -5.56574056e+00 -5.91727521e+00  3.31939647e+00 -2.46935796e+00\n",
            " -2.33149466e+00  1.15251162e+01  1.51982331e+01  8.37525946e+00\n",
            "  1.12820898e+01  9.07099482e+00  1.15192063e+00  4.28087661e+00\n",
            "  4.75879488e+00 -2.33149466e+00 -4.19622544e+00  1.06329751e+01\n",
            "  1.84745587e+01  9.03422926e+00  1.78311697e+01  1.32355225e+01\n",
            "  2.61091485e+00  2.62830217e+00 -7.96020877e+00  1.15251162e+01\n",
            "  1.06329751e+01  3.06760614e+01] \n",
            "\n",
            "alpha=0.50001\n",
            "Train MSE: 3019.902509656013\n",
            "Test MSE: 3491.606499639605\n",
            "[ 3.77206209e+01 -1.21754779e+02  3.38823778e+02  2.24843602e+02\n",
            " -6.35911946e+00 -4.59938253e+01 -1.57815931e+02  1.10705450e+02\n",
            "  2.83403547e+02  1.37577088e+02  1.16479867e+01  1.50958386e+01\n",
            "  4.71187939e+00  9.30363274e+00 -2.84570353e+00 -6.13526510e+00\n",
            " -2.94990356e+00  1.82351766e+00  8.30793982e+00  9.50728281e+00\n",
            "  1.50958386e+01 -7.35214072e-01  8.12868034e+00  9.58467269e+00\n",
            "  1.07307940e+00 -5.62836356e+00  9.57145899e+00 -7.17786585e+00\n",
            "  4.31943404e+00  4.46971294e+00  4.71187939e+00  8.12868034e+00\n",
            "  1.48011674e+01  1.40240580e+01  5.33392615e-01 -4.81460629e-01\n",
            " -3.90219658e+00  3.76133905e+00  6.66091965e+00  1.02172643e+01\n",
            "  9.30363274e+00  9.58467269e+00  1.40240580e+01  7.53727605e+00\n",
            " -2.82930037e-01 -3.51355534e+00  1.26198674e+00 -9.77568805e-01\n",
            "  5.71575461e+00  7.64466090e+00 -2.84570353e+00  1.07307940e+00\n",
            "  5.33392615e-01 -2.82930037e-01 -3.37514776e+00 -4.38238676e+00\n",
            " -5.79803450e-01 -2.31819406e+00  4.02769373e-01  1.48361312e+00\n",
            " -6.13526510e+00 -5.62836356e+00 -4.81460629e-01 -3.51355534e+00\n",
            " -4.38238676e+00 -7.00456639e+00  2.00123124e+00 -4.14511233e+00\n",
            "  8.09829275e-02  5.58014967e-01 -2.94990356e+00  9.57145899e+00\n",
            " -3.90219658e+00  1.26198674e+00 -5.79803450e-01  2.00123124e+00\n",
            " -7.30809874e+00  2.24339944e+00  1.27945378e+00 -4.59054505e+00\n",
            "  1.82351766e+00 -7.17786585e+00  3.76133905e+00 -9.77568805e-01\n",
            " -2.31819406e+00 -4.14511233e+00  2.24339944e+00 -1.92094808e-01\n",
            "  4.38003147e-01  6.81572513e+00  8.30793982e+00  4.31943404e+00\n",
            "  6.66091965e+00  5.71575461e+00  4.02769373e-01  8.09829275e-02\n",
            "  1.27945378e+00  4.38003147e-01  2.75693173e-01  6.83150890e+00\n",
            "  9.50728281e+00  4.46971294e+00  1.02172643e+01  7.64466090e+00\n",
            "  1.48361312e+00  5.58014967e-01 -4.59054505e+00  6.81572513e+00\n",
            "  6.83150890e+00  1.66699759e+01] \n",
            "\n",
            "alpha=0.75001\n",
            "Train MSE: 3155.971943251881\n",
            "Test MSE: 3666.5345221391176\n",
            "[ 4.12061246e+01 -9.24835254e+01  2.92771129e+02  1.99951891e+02\n",
            "  5.81358126e+00 -2.99487491e+01 -1.44287399e+02  1.08569794e+02\n",
            "  2.49174331e+02  1.31667671e+02  7.39014360e+00  9.97624093e+00\n",
            "  2.85318682e+00  6.42567833e+00 -2.59798953e+00 -5.05710441e+00\n",
            " -2.23573863e+00  1.06118943e+00  5.78726656e+00  6.37487861e+00\n",
            "  9.97624093e+00 -5.58460125e-01  5.42010227e+00  6.40053576e+00\n",
            "  6.70523638e-01 -4.00932593e+00  6.81680366e+00 -4.95610893e+00\n",
            "  2.91276039e+00  2.90881665e+00  2.85318682e+00  5.42010227e+00\n",
            "  1.13761083e+01  9.81357973e+00 -1.19408925e-01 -1.16335476e+00\n",
            " -2.67890493e+00  2.53055297e+00  4.86899399e+00  7.34333751e+00\n",
            "  6.42567833e+00  6.40053576e+00  9.81357973e+00  6.01775583e+00\n",
            " -4.41583174e-01 -3.05182397e+00  8.25188458e-01 -6.11983260e-01\n",
            "  4.34771008e+00  5.50866630e+00 -2.59798953e+00  6.70523638e-01\n",
            " -1.19408925e-01 -4.41583174e-01 -2.68022208e+00 -3.47322094e+00\n",
            " -8.05619326e-01 -1.24799431e+00  1.98919462e-01  1.03497364e+00\n",
            " -5.05710441e+00 -4.00932593e+00 -1.16335476e+00 -3.05182397e+00\n",
            " -3.47322094e+00 -5.11644009e+00  1.93686473e+00 -3.25489935e+00\n",
            " -9.76384052e-01 -3.97539750e-02 -2.23573863e+00  6.81680366e+00\n",
            " -2.67890493e+00  8.25188458e-01 -8.05619326e-01  1.93686473e+00\n",
            " -6.32943899e+00  1.68777291e+00  3.15915220e-01 -3.34448468e+00\n",
            "  1.06118943e+00 -4.95610893e+00  2.53055297e+00 -6.11983260e-01\n",
            " -1.24799431e+00 -3.25489935e+00  1.68777291e+00  5.95532712e-01\n",
            "  1.11925858e+00  5.05983721e+00  5.78726656e+00  2.91276039e+00\n",
            "  4.86899399e+00  4.34771008e+00  1.98919462e-01 -9.76384052e-01\n",
            "  3.15915220e-01  1.11925858e+00  1.37214865e+00  5.24011370e+00\n",
            "  6.37487861e+00  2.90881665e+00  7.34333751e+00  5.50866630e+00\n",
            "  1.03497364e+00 -3.97539750e-02 -3.34448468e+00  5.05983721e+00\n",
            "  5.24011370e+00  1.17340292e+01] \n",
            "\n",
            "alpha=1.00001\n",
            "Train MSE: 3281.3332426958186\n",
            "Test MSE: 3820.5930992539306\n",
            "[ 4.26594075e+01 -7.27602342e+01  2.58994169e+02  1.80596944e+02\n",
            "  1.31870878e+01 -1.85047108e+01 -1.33132809e+02  1.05268023e+02\n",
            "  2.23836962e+02  1.24830584e+02  5.27856490e+00  7.42033970e+00\n",
            "  1.92141708e+00  4.90493731e+00 -2.39408797e+00 -4.38545159e+00\n",
            " -1.83789525e+00  6.84687506e-01  4.44968215e+00  4.76888090e+00\n",
            "  7.42033970e+00 -4.39361381e-01  4.04897723e+00  4.79282113e+00\n",
            "  4.76584395e-01 -3.15530260e+00  5.36516592e+00 -3.80829851e+00\n",
            "  2.19807312e+00  2.12713963e+00  1.92141708e+00  4.04897723e+00\n",
            "  9.34116383e+00  7.58284974e+00 -3.77473047e-01 -1.38236312e+00\n",
            " -2.02394583e+00  1.89914522e+00  3.87606727e+00  5.78575431e+00\n",
            "  4.90493731e+00  4.79282113e+00  7.58284974e+00  5.06530945e+00\n",
            " -4.93710789e-01 -2.72262426e+00  6.15625370e-01 -4.41319486e-01\n",
            "  3.56176604e+00  4.34292477e+00 -2.39408797e+00  4.76584395e-01\n",
            " -3.77473047e-01 -4.93710789e-01 -2.22430509e+00 -2.88865045e+00\n",
            " -8.60910039e-01 -7.26309735e-01  1.20295513e-01  7.89546410e-01\n",
            " -4.38545159e+00 -3.15530260e+00 -1.38236312e+00 -2.72262426e+00\n",
            " -2.88865045e+00 -4.04692069e+00  1.79809889e+00 -2.68439760e+00\n",
            " -1.33793532e+00 -2.83333194e-01 -1.83789525e+00  5.36516592e+00\n",
            " -2.02394583e+00  6.15625370e-01 -8.60910039e-01  1.79809889e+00\n",
            " -5.61856210e+00  1.34222072e+00 -6.98211443e-02 -2.67485754e+00\n",
            "  6.84687506e-01 -3.80829851e+00  1.89914522e+00 -4.41319486e-01\n",
            " -7.26309735e-01 -2.68439760e+00  1.34222072e+00  9.64699217e-01\n",
            "  1.33962847e+00  4.10593010e+00  4.44968215e+00  2.19807312e+00\n",
            "  3.87606727e+00  3.56176604e+00  1.20295513e-01 -1.33793532e+00\n",
            " -6.98211443e-02  1.33962847e+00  1.72823205e+00  4.31301420e+00\n",
            "  4.76888090e+00  2.12713963e+00  5.78575431e+00  4.34292477e+00\n",
            "  7.89546410e-01 -2.83333194e-01 -2.67485754e+00  4.10593010e+00\n",
            "  4.31301420e+00  9.16688307e+00] \n",
            "\n"
          ]
        }
      ]
    },
    {
      "cell_type": "code",
      "source": [],
      "metadata": {
        "id": "D5EDhGeZCDIR"
      },
      "execution_count": null,
      "outputs": []
    }
  ]
}