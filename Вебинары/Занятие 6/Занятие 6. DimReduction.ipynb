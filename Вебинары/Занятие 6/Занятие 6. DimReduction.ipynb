{
 "cells": [
  {
   "cell_type": "markdown",
   "metadata": {},
   "source": [
    "# Математика для анализа данных. Снижение размерности"
   ]
  },
  {
   "cell_type": "code",
   "execution_count": null,
   "metadata": {},
   "outputs": [],
   "source": []
  },
  {
   "cell_type": "code",
   "execution_count": 2,
   "metadata": {},
   "outputs": [],
   "source": [
    "%matplotlib inline\n",
    "import numpy as np\n",
    "import matplotlib.pyplot as plt"
   ]
  },
  {
   "cell_type": "markdown",
   "metadata": {},
   "source": [
    "## Метод главных компонент (Principal Component Analysis, PCA)"
   ]
  },
  {
   "cell_type": "markdown",
   "metadata": {},
   "source": [
    "### Теория\n",
    "\n",
    "Обозначим $X$ - матрицу объекты-признаки, с нулевым средним каждого признака,\n",
    "а $w$ - некоторый единичный вектор. Тогда\n",
    "$Xw$ задает величину проекций всех объектов на этот вектор. Далее ищется вектор,\n",
    "который дает наибольшую дисперсию полученных проекций (то есть наибольшую дисперсию\n",
    "вдоль этого направления):\n",
    "\n",
    "$$\n",
    "    \\max_{w: \\|w\\|=1} \\| Xw \\|^2 =  \\max_{w: \\|w\\|=1} w^T X^T X w\n",
    "$$\n",
    "\n",
    "Подходящий вектор тогда равен собственному вектору матрицы $X^T X$ с наибольшим собственным\n",
    "значением. "
   ]
  },
  {
   "cell_type": "markdown",
   "metadata": {},
   "source": [
    "### PCA на плоскости\n",
    "\n",
    "Для начала посмотрим на метод PCA на плоскости для того, чтобы\n",
    "лучше понять, как он устроен.\n",
    "\n",
    "Создадим выборку из двух сильно зависящих признаков."
   ]
  },
  {
   "cell_type": "code",
   "execution_count": 5,
   "metadata": {},
   "outputs": [
    {
     "data": {
      "text/plain": [
       "<matplotlib.collections.PathCollection at 0x1ee16569c88>"
      ]
     },
     "execution_count": 5,
     "metadata": {},
     "output_type": "execute_result"
    },
    {
     "data": {
      "image/png": "[encoded data removed]",
      "text/plain": [
       "<Figure size 432x288 with 1 Axes>"
      ]
     },
     "metadata": {
      "needs_background": "light"
     },
     "output_type": "display_data"
    }
   ],
   "source": [
    "x = np.arange(1,11)\n",
    "y = 2 * x + np.random.randn(10) * 2\n",
    "X = np.vstack((x,y))\n",
    "\n",
    "plt.scatter(X[0],X[1])"
   ]
  },
  {
   "cell_type": "code",
   "execution_count": 6,
   "metadata": {},
   "outputs": [
    {
     "name": "stdout",
     "output_type": "stream",
     "text": [
      "Mean vector:  [ 5.5        11.35328852]\n",
      "[[-4.5        -3.5        -2.5        -1.5        -0.5         0.5\n",
      "   1.5         2.5         3.5         4.5       ]\n",
      " [-8.09347478 -6.97318192 -5.75867956 -2.04948289 -5.34078856  2.08564379\n",
      "   4.55098512  6.99642371  7.90106679  6.68148829]]\n"
     ]
    },
    {
     "data": {
      "text/plain": [
       "<matplotlib.collections.PathCollection at 0x1ee165b1248>"
      ]
     },
     "execution_count": 6,
     "metadata": {},
     "output_type": "execute_result"
    },
    {
     "data": {
      "image/png": "[encoded data removed]",
      "text/plain": [
       "<Figure size 432x288 with 1 Axes>"
      ]
     },
     "metadata": {
      "needs_background": "light"
     },
     "output_type": "display_data"
    }
   ],
   "source": [
    "#Find m - mean vector, and Xcentered - X-mean\n",
    "#Your code is here\n",
    "\n",
    "Xcentered = X - X.mean(axis=1, keepdims=True)\n",
    "m = np.mean(X, axis=1)\n",
    "\n",
    "print(\"Mean vector: \", m)\n",
    "print(Xcentered)\n",
    "\n",
    "plt.scatter(Xcentered[0],Xcentered[1])"
   ]
  },
  {
   "cell_type": "markdown",
   "metadata": {},
   "source": [
    "Вычисляем матрицу ковариаций"
   ]
  },
  {
   "cell_type": "code",
   "execution_count": 7,
   "metadata": {},
   "outputs": [
    {
     "name": "stdout",
     "output_type": "stream",
     "text": [
      "[[ 9.16666667 18.22765341]\n",
      " [18.22765341 40.12187285]] \n",
      "\n",
      "Variance of X:  9.166666666666666\n",
      "Variance of Y:  40.121872845875856\n",
      "Covariance X and Y:  18.22765341029929\n"
     ]
    }
   ],
   "source": [
    "covmat = np.cov(Xcentered)\n",
    "print(covmat, \"\\n\")\n",
    "print(\"Variance of X: \", np.cov(Xcentered)[0,0])\n",
    "print(\"Variance of Y: \", np.cov(Xcentered)[1,1])\n",
    "print(\"Covariance X and Y: \", np.cov(Xcentered)[0,1])"
   ]
  },
  {
   "cell_type": "markdown",
   "metadata": {},
   "source": [
    "Находим собственные векторы матрицы ковариаций и проецируем на самый большой вектор (с самым большим собственным значением) все точки"
   ]
  },
  {
   "cell_type": "code",
   "execution_count": 8,
   "metadata": {},
   "outputs": [
    {
     "name": "stdout",
     "output_type": "stream",
     "text": [
      "[ 9.23499548  7.79832056  6.27614662  2.48993468  5.05696742 -2.10278925\n",
      " -4.76015116 -7.39945051 -8.64041436 -7.9535595 ]\n"
     ]
    }
   ],
   "source": [
    "eignums, vecs = np.linalg.eig(covmat)\n",
    "v = vecs[:,np.argmax(eignums)]\n",
    "Xnew = np.dot(v,Xcentered)\n",
    "print(Xnew)"
   ]
  },
  {
   "cell_type": "markdown",
   "metadata": {},
   "source": [
    "Восстановление данных"
   ]
  },
  {
   "cell_type": "code",
   "execution_count": 9,
   "metadata": {},
   "outputs": [
    {
     "name": "stdout",
     "output_type": "stream",
     "text": [
      "Restored:  [4.45431971 9.09357007]\n",
      "Original:  [4.         9.30380563]\n"
     ]
    }
   ],
   "source": [
    "n = 3 #номер элемента случайной величины\n",
    "Xrestored = np.dot(Xnew[n],v) + m\n",
    "print('Restored: ', Xrestored)\n",
    "print('Original: ', X[:,n])"
   ]
  },
  {
   "cell_type": "code",
   "execution_count": 17,
   "metadata": {},
   "outputs": [
    {
     "data": {
      "image/png": "[encoded data removed]",
      "text/plain": [
       "<Figure size 432x288 with 1 Axes>"
      ]
     },
     "metadata": {
      "needs_background": "light"
     },
     "output_type": "display_data"
    }
   ],
   "source": [
    "k = v[1]/v[0]\n",
    "\n",
    "x1 = np.arange(-6,7,0.1)\n",
    "y1 = [k*elem for elem in x1]\n",
    "plt.scatter(Xcentered[0],Xcentered[1])\n",
    "plt.plot(x1,y1,'-',c='red')\n",
    "plt.show()"
   ]
  },
  {
   "cell_type": "markdown",
   "metadata": {},
   "source": [
    "Доля объясненной дисперсии"
   ]
  },
  {
   "cell_type": "code",
   "execution_count": 18,
   "metadata": {},
   "outputs": [
    {
     "data": {
      "text/plain": [
       "98.51516051788506"
      ]
     },
     "execution_count": 18,
     "metadata": {},
     "output_type": "execute_result"
    }
   ],
   "source": [
    "100 * max(eignums)/sum(eignums)"
   ]
  },
  {
   "cell_type": "markdown",
   "metadata": {},
   "source": [
    "Проверим, что нам выдаст PCA из sklearn"
   ]
  },
  {
   "cell_type": "code",
   "execution_count": 19,
   "metadata": {},
   "outputs": [],
   "source": [
    "from sklearn.decomposition import PCA\n",
    "\n",
    "#Apply PCA with n_components=1 to transposed Xcentered\n",
    "#Your code is here\n",
    "pca = PCA(n_components=2)\n",
    "X_pca = pca.fit_transform(Xcentered.T)"
   ]
  },
  {
   "cell_type": "code",
   "execution_count": 20,
   "metadata": {},
   "outputs": [
    {
     "data": {
      "text/plain": [
       "array([[-0.41996294, -0.90754125],\n",
       "       [ 0.90754125, -0.41996294]])"
      ]
     },
     "execution_count": 20,
     "metadata": {},
     "output_type": "execute_result"
    }
   ],
   "source": [
    "pca.components_"
   ]
  },
  {
   "cell_type": "code",
   "execution_count": 21,
   "metadata": {},
   "outputs": [
    {
     "data": {
      "text/plain": [
       "array([[-4.5       , -3.5       , -2.5       , -1.5       , -0.5       ,\n",
       "         0.5       ,  1.5       ,  2.5       ,  3.5       ,  4.5       ],\n",
       "       [-8.09347478, -6.97318192, -5.75867956, -2.04948289, -5.34078856,\n",
       "         2.08564379,  4.55098512,  6.99642371,  7.90106679,  6.68148829]])"
      ]
     },
     "execution_count": 21,
     "metadata": {},
     "output_type": "execute_result"
    }
   ],
   "source": [
    "Xcentered"
   ]
  },
  {
   "cell_type": "code",
   "execution_count": 22,
   "metadata": {},
   "outputs": [
    {
     "data": {
      "text/plain": [
       "array([[ 9.23499548, -0.68497618],\n",
       "       [ 7.79832056, -0.2479164 ],\n",
       "       [ 6.27614662,  0.14957887],\n",
       "       [ 2.48993468, -0.50060502],\n",
       "       [ 5.05696742,  1.78916264],\n",
       "       [-2.10278925, -0.42212247],\n",
       "       [-4.76015116, -0.54993321],\n",
       "       [-7.39945051, -0.66938554],\n",
       "       [-8.64041436, -0.14176085],\n",
       "       [-7.9535595 ,  1.27795817]])"
      ]
     },
     "execution_count": 22,
     "metadata": {},
     "output_type": "execute_result"
    }
   ],
   "source": [
    "X_pca"
   ]
  },
  {
   "cell_type": "markdown",
   "metadata": {},
   "source": [
    "Сравним полученный вектор главной компоненты с нашим ответом"
   ]
  },
  {
   "cell_type": "code",
   "execution_count": 23,
   "metadata": {},
   "outputs": [
    {
     "name": "stdout",
     "output_type": "stream",
     "text": [
      "[-0.41996294 -0.90754125]\n",
      "[[-0.41996294 -0.90754125]\n",
      " [ 0.90754125 -0.41996294]]\n"
     ]
    }
   ],
   "source": [
    "print(v)\n",
    "print(pca.components_)"
   ]
  },
  {
   "cell_type": "markdown",
   "metadata": {},
   "source": [
    "Доля объясненного разброса по мнению встроенного PCA"
   ]
  },
  {
   "cell_type": "code",
   "execution_count": 24,
   "metadata": {},
   "outputs": [
    {
     "data": {
      "text/plain": [
       "98.51516051788506"
      ]
     },
     "execution_count": 24,
     "metadata": {},
     "output_type": "execute_result"
    }
   ],
   "source": [
    "pca.explained_variance_ratio_[0] * 100"
   ]
  },
  {
   "cell_type": "markdown",
   "metadata": {},
   "source": [
    "## Сингулярное разложение, SVD (Singular Value Decomposition)"
   ]
  },
  {
   "cell_type": "code",
   "execution_count": 26,
   "metadata": {},
   "outputs": [
    {
     "name": "stdout",
     "output_type": "stream",
     "text": [
      "[[3. 4. 3.]\n",
      " [1. 2. 3.]\n",
      " [4. 2. 1.]]\n"
     ]
    }
   ],
   "source": [
    "import numpy as np\n",
    " \n",
    "#Creating a matrix A\n",
    "A = np.array([[3,4,3],[1,2,3],[4,2,1]])\n",
    " \n",
    "#Performing SVD\n",
    "U, D, VT = np.linalg.svd(A)\n",
    " \n",
    "#Checking if we can remake the original matrix using U,D,VT\n",
    "A_remake = (U @ np.diag(D) @ VT)\n",
    "print(A_remake)"
   ]
  }
 ],
 "metadata": {
  "kernelspec": {
   "display_name": "Python 3",
   "language": "python",
   "name": "python3"
  },
  "language_info": {
   "codemirror_mode": {
    "name": "ipython",
    "version": 3
   },
   "file_extension": ".py",
   "mimetype": "text/x-python",
   "name": "python",
   "nbconvert_exporter": "python",
   "pygments_lexer": "ipython3",
   "version": "3.7.6"
  }
 },
 "nbformat": 4,
 "nbformat_minor": 1
}
